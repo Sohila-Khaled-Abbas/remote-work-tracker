{
 "cells": [
  {
   "cell_type": "markdown",
   "id": "1d851289",
   "metadata": {},
   "source": []
  }
 ],
 "metadata": {
  "kernelspec": {
   "display_name": ".venv (3.13.8)",
   "language": "python",
   "name": "python3"
  },
  "language_info": {
   "name": "python",
   "version": "3.13.8"
  }
 },
 "nbformat": 4,
 "nbformat_minor": 5
}
