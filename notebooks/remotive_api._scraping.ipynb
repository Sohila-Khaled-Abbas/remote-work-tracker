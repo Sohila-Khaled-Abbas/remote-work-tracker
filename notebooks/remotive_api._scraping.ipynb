{
 "cells": [
  {
   "cell_type": "markdown",
   "id": "bebb0788",
   "metadata": {},
   "source": [
    "# Remote Work Job Scraper: Remotive.com API"
   ]
  },
  {
   "cell_type": "markdown",
   "id": "d58a3d79",
   "metadata": {},
   "source": [
    "This Jupyter Notebook demonstrates how to fetch real remote job postings using the [Remotive.com Public API](https://remotive.com/remote-jobs/api). Utilizing an API is often the most robust and polite method for collecting data from websites, as it bypasses the complexities of HTML parsing and anti-scraping measures associated with traditional web scraping."
   ]
  },
  {
   "cell_type": "markdown",
   "id": "aeb2f1d6",
   "metadata": {},
   "source": [
    "## 1. Setup and Configuration"
   ]
  },
  {
   "cell_type": "markdown",
   "id": "c72f3d0d",
   "metadata": {},
   "source": [
    "We begin by importing the necessary Python libraries: `requests` for making HTTP requests to the API, `pandas` for data manipulation, and `time` for potential delays (though less critical with APIs, it's good practice if rate limits are strict)."
   ]
  },
  {
   "cell_type": "code",
   "execution_count": 1,
   "id": "e9d333d0",
   "metadata": {},
   "outputs": [],
   "source": [
    "import requests\n",
    "import pandas as pd\n",
    "import time\n",
    "from IPython.display import display, Markdown"
   ]
  },
  {
   "cell_type": "markdown",
   "id": "97a529fa",
   "metadata": {},
   "source": [
    "## 2. API Data Fetching Function (`scrape_remotive_api`)"
   ]
  },
  {
   "cell_type": "markdown",
   "id": "e41ed04d",
   "metadata": {},
   "source": [
    "This function is designed to interact with the Remotive API. It constructs the API request with optional parameters for filtering by category."
   ]
  },
  {
   "cell_type": "code",
   "execution_count": 2,
   "id": "65a265ee",
   "metadata": {},
   "outputs": [],
   "source": [
    "def scrape_remotive_api(category=None, search=None, limit=None):\n",
    "    base_api_url = \"https://remotive.com/api/remote-jobs\"\n",
    "    params = {}\n",
    "    if category:\n",
    "        params['category'] = category\n",
    "    if search:\n",
    "        params['search'] = search\n",
    "    if limit:\n",
    "        params['limit'] = limit        \n",
    "    job_listings = []\n",
    "    print(f\"Starting to fetch jobs from Remotive API with parameters: {params}\")\n",
    "    try:\n",
    "        response = requests.get(base_api_url, params=params)\n",
    "        response.raise_for_status()  # Raise an exception for HTTP errors\n",
    "        data = response.json()\n",
    "\n",
    "        if 'jobs' in data:\n",
    "            for job in data['jobs']:\n",
    "                job_data = {\n",
    "                    \"Job ID\": job.get(\"id\"),\n",
    "                    \"Job Title\": job.get(\"title\"),\n",
    "                    \"Company Name\": job.get(\"company_name\"),\n",
    "                    \"Publication Date\": job.get(\"publication_date\"),\n",
    "                    \"Job Type\": job.get(\"job_type\"),\n",
    "                    \"Category\": job.get(\"category\"),\n",
    "                    \"Candidate Required Location\": job.get(\"candidate_required_location\"),\n",
    "                    \"Salary Range\": job.get(\"salary\"),\n",
    "                    \"Job Description\": job.get(\"description\"),\n",
    "                    \"Source URL\": job.get(\"url\"),\n",
    "                    \"Company Logo\": job.get(\"company_logo\"),\n",
    "                    \"Job Board\": \"Remotive.com\"\n",
    "                }\n",
    "                job_listings.append(job_data)\n",
    "        else:\n",
    "            print(\"No 'jobs' key found in the API response.\")\n",
    "\n",
    "    except requests.exceptions.RequestException as e:\n",
    "        print(f\"Error during request to Remotive API: {e}\")\n",
    "    except ValueError as e:\n",
    "        print(f\"Error decoding JSON response from Remotive API: {e}\")\n",
    "    except Exception as e:\n",
    "        print(f\"An unexpected error occurred: {e}\")\n",
    "    df = pd.DataFrame(job_listings)\n",
    "    return df    "
   ]
  },
  {
   "cell_type": "markdown",
   "id": "050a8000",
   "metadata": {},
   "source": [
    "## 3. Execution and Data Storage"
   ]
  },
  {
   "cell_type": "markdown",
   "id": "69f56211",
   "metadata": {},
   "source": [
    "This section demonstrates how to call the `scrape_remotive_api` function, retrieve job data, and save it to a CSV file. For this example, we'll fetch 50 jobs from the 'Software Development' category."
   ]
  },
  {
   "cell_type": "code",
   "execution_count": 3,
   "id": "fd288225",
   "metadata": {},
   "outputs": [
    {
     "name": "stdout",
     "output_type": "stream",
     "text": [
      "Starting to fetch jobs from Remotive API with parameters: {'category': 'software-dev', 'limit': 500}\n",
      "Scraped data saved to remotive_jobs.csv\n"
     ]
    },
    {
     "data": {
      "text/markdown": [
       "### Sample of Scraped Data from Remotive API"
      ],
      "text/plain": [
       "<IPython.core.display.Markdown object>"
      ]
     },
     "metadata": {},
     "output_type": "display_data"
    },
    {
     "data": {
      "application/vnd.microsoft.datawrangler.viewer.v0+json": {
       "columns": [
        {
         "name": "index",
         "rawType": "int64",
         "type": "integer"
        },
        {
         "name": "Job ID",
         "rawType": "int64",
         "type": "integer"
        },
        {
         "name": "Job Title",
         "rawType": "object",
         "type": "string"
        },
        {
         "name": "Company Name",
         "rawType": "object",
         "type": "string"
        },
        {
         "name": "Publication Date",
         "rawType": "object",
         "type": "string"
        },
        {
         "name": "Job Type",
         "rawType": "object",
         "type": "string"
        },
        {
         "name": "Category",
         "rawType": "object",
         "type": "string"
        },
        {
         "name": "Candidate Required Location",
         "rawType": "object",
         "type": "string"
        },
        {
         "name": "Salary Range",
         "rawType": "object",
         "type": "string"
        },
        {
         "name": "Job Description",
         "rawType": "object",
         "type": "string"
        },
        {
         "name": "Source URL",
         "rawType": "object",
         "type": "string"
        },
        {
         "name": "Company Logo",
         "rawType": "object",
         "type": "string"
        },
        {
         "name": "Job Board",
         "rawType": "object",
         "type": "string"
        }
       ],
       "ref": "f7b95957-4723-4f65-8584-ae5ae4039747",
       "rows": [
        [
         "0",
         "2069789",
         "Shopify Developer",
         "Tidal Commerce",
         "2025-10-16T18:50:24",
         "part_time",
         "Software Development",
         "LATAM, India",
         "",
         "<p style=\"font-weight:400;margin:0px;line-height:1.38;padding:0px;\"><b><strong style=\"white-space:pre-wrap;\">About the role</strong></b></p><p style=\"font-weight:400;margin:0px;line-height:1.38;padding:0px;\"><span style=\"white-space:pre-wrap;\">We are seeking a skilled and experienced Shopify Developer to join our team. As a Developer, you will be responsible for developing, and maintaining high-quality E-Commerce webstores. The ideal candidate should have a strong background in web development, particularly with React JS, Type Script, GraphQL, Rest, Shopify, Remix and be capable of leading projects, mentoring junior developers, and collaborating with cross-functional teams to deliver exceptional results.</span></p><p style=\"font-weight:400;margin:0px;line-height:1.38;padding:0px;\"><br></p><p style=\"font-weight:400;margin:0px;line-height:1.38;padding:0px;\"><span style=\"white-space:pre-wrap;\">This role would be part-time based on the demand of the project.</span></p><p style=\"font-weight:400;margin:0px;line-height:1.38;padding:0px;\"><br></p><p style=\"font-weight:400;margin:0px;line-height:1.38;padding:0px;\"><b><strong style=\"white-space:pre-wrap;\">What you'll do</strong></b></p><ul style=\"\"><li style=\"\"><span style=\"white-space:pre-wrap;\">Design, develop, and maintain E-Commerce webstores according to project requirements and best practices.</span></li><li style=\"\"><span style=\"white-space:pre-wrap;\">Collaborate with designers, product managers, and other stakeholders to understand project goals and translate them into technical requirements and solutions.</span></li><li style=\"\"><span style=\"white-space:pre-wrap;\">Lead the technical implementation of React JS, Type Script, Remix, Liquid ensuring code quality, performance, and scalability.</span></li><li style=\"\"><span style=\"white-space:pre-wrap;\">Mentor junior developers, provide code reviews, and share best practices to foster a collaborative and learning-oriented environment.</span></li><li style=\"\"><span style=\"white-space:pre-wrap;\">Stay updated on Shopify updates, new features, and best practices to continuously improve development processes and techniques.</span></li><li style=\"\"><span style=\"white-space:pre-wrap;\">Troubleshoot and debug issues, conduct root cause analysis, and implement effective solutions in a timely manner.</span></li><li style=\"\"><span style=\"white-space:pre-wrap;\">Participate in Agile development processes, including sprint planning, stand-up meetings, and retrospectives.</span></li><li style=\"\"><span style=\"white-space:pre-wrap;\">Contribute to architectural discussions and decisions, providing insights and recommendations based on expertise and experience.</span></li><li style=\"\"><span style=\"white-space:pre-wrap;\">Collaborate with third-party service providers and integration partners to implement and maintain integrations with external systems.</span></li><li style=\"\"><span style=\"white-space:pre-wrap;\">Continuously monitor application performance, identify areas for optimization, and implement enhancements to improve user experience and efficiency.</span></li></ul><p style=\"font-weight:400;margin:0px;line-height:1.38;padding:0px;\"><b><strong style=\"white-space:pre-wrap;\">Qualifications</strong></b></p><ul style=\"\"><li style=\"\"><span style=\"white-space:pre-wrap;\">Bachelor’s degree in computer science, Engineering, or related field.</span></li><li style=\"\"><span style=\"white-space:pre-wrap;\">Minimum of 5 years of professional experience in web development.</span></li><li style=\"\"><span style=\"white-space:pre-wrap;\">Must have </span><b><strong style=\"white-space:pre-wrap;\">React JS, NextJS, TypeScript, GraphQL</strong></b><span style=\"white-space:pre-wrap;\">, HTML/CSS, Liquid</span></li><li style=\"\"><span style=\"white-space:pre-wrap;\">Must have professional experience with modern e-commerce engines such as </span><b><strong style=\"white-space:pre-wrap;\">Shopify Plus (preferable), Commercetools, Magento, VTEX, BigCommerce, SFCC, </strong></b><span style=\"white-space:pre-wrap;\">or similar</span></li><li style=\"\"><span style=\"white-space:pre-wrap;\">Knowledge about Shopify storefront environment.</span></li><li style=\"\"><span style=\"white-space:pre-wrap;\">Strong understanding of web technologies, including responsive design, browser compatibility, and performance optimization.</span></li><li style=\"\"><span style=\"white-space:pre-wrap;\">Experience with version control systems, such as Git.</span></li><li style=\"\"><span style=\"white-space:pre-wrap;\">Excellent problem-solving skills and attention to detail.</span></li><li style=\"\"><span style=\"white-space:pre-wrap;\">Ability to communicate effectively with technical and non-technical stakeholders.</span></li><li style=\"\"><span style=\"white-space:pre-wrap;\">Experience working in Agile development environments.</span></li><li style=\"\"><span style=\"white-space:pre-wrap;\">Strong leadership and mentoring skills, with a passion for knowledge sharing and team collaboration.</span></li><li style=\"\"><span style=\"white-space:pre-wrap;\">Ability to thrive in a fast-paced, dynamic environment and manage multiple priorities effectively.</span></li><li style=\"\"><span style=\"white-space:pre-wrap;\">Preferred - Experience with VueJS, Tailwind, Headless CMS (Strapi, Contentful, similar)</span></li></ul><p style=\"font-weight:400;margin:16px 0px;line-height:1.38;padding:0px;text-indent:0px;text-align:left;\"><b><strong style=\"white-space:pre-wrap;\">Why Join Us:</strong></b><span style=\"white-space:pre-wrap;\"> </span></p><ul style=\"\"><li style=\"\"><span style=\"white-space:pre-wrap;\">Opportunity to lead cutting-edge eCommerce initiatives in a fast-paced environment. </span></li><li style=\"\"><span style=\"white-space:pre-wrap;\">Work on complex technical challenges which would enable creative problem-solving. </span></li><li style=\"\"><span style=\"white-space:pre-wrap;\">Culture that values curiosity, learning, and innovation. </span></li><li style=\"\"><span style=\"white-space:pre-wrap;\">Competitive compensation package</span></li></ul><img src=\"https://remotive.com/job/track/2069789/blank.gif?source=public_api\" alt=\"\"/>",
         "https://remotive.com/remote-jobs/software-dev/shopify-developer-2069789",
         "https://remotive.com/job/2069789/logo",
         "Remotive.com"
        ],
        [
         "1",
         "2069788",
         "Principal Software Engineer",
         "Cint",
         "2025-10-16T18:50:23",
         "full_time",
         "Software Development",
         "Brazil",
         "",
         "<br><br><div class=\"h3\">Company Description</div><p>Cint is a global software leader in technology-enabled digital insights and research technology. The Cint platform automates the insights-gathering process so that companies can gain access to insights faster with unparalleled scale. Cint has one of the world’s largest consumer networks for digital survey-based research, made up of over 239 million engaged respondents across more than 130 countries. Over 4,600 insights-driven companies use Cint to accelerate how they gather consumer insights and supercharge business growth.</p><br><br><div class=\"h3\">Job Description</div><p><strong>The Team </strong></p><p>The Cint Technology team is looking for a Principal Software Engineer to join our international Data Solutions &amp; Measurement team. This position is for a software engineer who likes challenges. Our business has been doubling in the last few years and so our systems need to scale to accommodate this growth.  </p><p><strong>What You Will Do </strong></p><p>Our ideal candidate considers themselves among the highly technical and likes to push the limits of their knowledge and experience every day. In this role, you will lead the design, implementation, scaling, and maintenance of the code that powers our production systems. You will work autonomously, providing technical direction and ensuring timely and high-quality delivery across multiple projects. You will proactively communicate and collaborate with cross-functional teams, including Product and Data Science, to drive strategic initiatives. With significant freedom to innovate, you will play a pivotal role in world-class research, shaping the next generation of Cint products and mentoring less experienced engineers.</p><br><br><div class=\"h3\">Qualifications</div><p><strong>What We Are Looking For</strong></p><ul style=\"\"><li style=\"\"><p>10+ years of hands-on professional backend software development experience, with a significant portion in a leadership or principal role.</p></li><li style=\"\"><p>Degree in Computer Science or related field.</p></li><li style=\"\"><p>Proficient programming skills in Python or Java and comfortable maintaining code in both languages, with a strong emphasis on architectural design and code quality.</p></li><li style=\"\"><p>Deep familiarity with CI/CD pipelines, advanced testing frameworks, and deployment strategies.</p></li><li style=\"\"><p>Extensive experience with complex API integration, design, and best practices, including defining API standards.</p></li><li style=\"\"><p>Expertise in dealing with system complexity, distributed systems, and large-scale architectural challenges.</p></li><li style=\"\"><p>Exceptional sense of ownership, accountability, and technical leadership.</p></li><li style=\"\"><p>Outstanding problem-solving, analytical, and strategic thinking skills.</p></li><li style=\"\"><p>Consistently questions the status quo and brings innovative, impactful solutions to engineering and product needs, driving significant technical advancements.</p></li><li style=\"\"><p>Strong ability to influence architecture and technical decisions across multiple teams, ensuring robust, scalable, and cost-efficient solutions that align with business objectives.</p></li><li style=\"\"><p>Enjoys working as part of a team, actively mentoring and guiding other engineers, and providing constructive feedback to foster growth.</p></li><li style=\"\"><p>Comfortable with making critical decisions based on comprehensive data analysis and industry best practices.</p></li><li style=\"\"><p>Outstanding communication skills to guide and facilitate complex cross-functional collaboration and present technical strategies to diverse audiences.</p></li><li style=\"\"><p>Extensive background in data analytics tools such as Spark, Hive, Databricks, or similar, with experience in designing and optimizing data pipelines.</p></li><li style=\"\"><p>Deep familiarity with observability strategies, including advanced monitoring, logging, and tracing.</p></li><li style=\"\"><p>Extensive experience with AWS, Microservices, Docker, Kubernetes, and advanced SQL, including database design and performance tuning.</p></li></ul><br><br><div class=\"h3\">Additional Information</div><div></div><p><strong>Our Values</strong></p><p><strong>Collaboration is our superpower</strong></p><ul style=\"\"><li style=\"\">We uncover rich perspectives across the world</li><li style=\"\">Success happens together</li><li style=\"\">We deliver across borders.</li></ul><p><strong>Innovation is in our blood</strong></p><ul style=\"\"><li style=\"\">We’re pioneers in our industry</li><li style=\"\">Our curiosity is insatiable</li><li style=\"\">We bring the best ideas to life.</li></ul><p><strong>We do what we say</strong></p><ul style=\"\"><li style=\"\">We’re accountable for our work and actions</li><li style=\"\">Excellence comes as standard</li><li style=\"\">We’re open, honest and kind, always.</li></ul><p><strong>We are caring</strong></p><ul style=\"\"><li style=\"\">We learn from each other’s experiences</li><li style=\"\">Stop and listen; every opinion matters</li><li style=\"\">We embrace diversity, equity and inclusion.</li></ul><p> </p><p><strong>More About Cint</strong></p><p>We’re proud to be recognised in Newsweek’s 2025 Global Top 100 Most Loved Workplaces®, reflecting our commitment to a culture of trust, respect, and employee growth.</p><p>In June 2021, Cint acquired Berlin-based GapFish – the world’s largest ISO certified online panel community in the DACH region – and in January 2022, completed the acquisition of US-based Lucid – a programmatic research technology platform that provides access to first-party survey data in over 110 countries.</p><p>Cint Group AB (publ), listed on Nasdaq Stockholm, this growth has made Cint a strong global platform with teams across its many global offices, including Stockholm, London, New York, New Orleans, Singapore, Tokyo and Sydney. (www.cint.com)</p><p> </p><p>Additionally, in a world of AI, we want our candidates to understand our approach to the use of AI during the interview and hiring process, so we'd appreciate you reading our <a href=\"http://c.smartrecruiters.com/sr-company-attachments-prod-aws-dc5/655c6b17c74f682dfe4dd060/acaefd72-69c2-4bf5-8e9d-d848d701336b?r=s3-eu-central-1\" rel=\"nofollow\">AI usage guide</a>.</p><img src=\"https://remotive.com/job/track/2069788/blank.gif?source=public_api\" alt=\"\"/>",
         "https://remotive.com/remote-jobs/software-dev/principal-software-engineer-2069788",
         "https://remotive.com/job/2069788/logo",
         "Remotive.com"
        ],
        [
         "2",
         "2069786",
         "Product Engineer",
         "Dataline nv",
         "2025-10-16T18:50:22",
         "full_time",
         "Software Development",
         "Belgium",
         "",
         "<p>We are a leading provider of enterprise resource planning (ERP) software solutions in the graphical industry. Our MultiPress software is designed to streamline operations, increase efficiency, and enhance productivity for businesses in this sector. We are seeking a highly skilled and experienced (Software) Product Engineer to join our team and contribute to the development and maintenance of our ERP software.</p><p style=\"min-height: 1.7em;\"></p><p><strong>Position Summary:</strong></p><p>As a Software Product Engineer, you will play a crucial role in the ongoing development and improvement of MultiPress. Your primary responsibility will be to gain a comprehensive understanding of the software, becoming an expert in its functionalities, modules, and integrations. This expertise will enable you to make changes, enhancements, and optimizations to the software as required. You will work closely with the Product Director, Project Managers and Development Teams to ensure that the software meets the evolving needs of our customers and industry standards.</p><p><br><strong>Responsibilities:</strong></p><ul style=\"\"><li style=\"\"><p>Software Development: Collaborate with the Product Development Team to make changes, enhancements, and improvements to MultiPress in response to customer requirements and industry trends. Write clean, efficient, and maintainable code that adheres to coding standards and best practices.</p></li><li style=\"\"><p>Testing and Quality Assurance: Perform and supervise testing activities, including unit testing, integration testing, and system testing. Ensure the software is robust, reliable, and free of defects.</p></li><li style=\"\"><p>Product Knowledge: Gain an in-depth understanding of MultiPress, its modules, features, and functionality. Continuously update and expand your knowledge to stay up-to-date with the latest software enhancements and industry trends.</p></li><li style=\"\"><p>Technical Support: Provide technical support to Project Managers, Development Teams, and end-users. Troubleshoot software issues, diagnose problems, and propose effective solutions. Be able, in time, to perform detailed demonstrations of MultiPress in a multilingual context.</p></li><li style=\"\"><p>Documentation: Create and maintain technical documentation, including software specifications, design documents, release notes, and user manuals.</p></li><li style=\"\"><p>Collaboration: Work closely with Project Managers, Development Teams, and cross-functional stakeholders to gather requirements, provide technical insights, and ensure timely and successful project delivery.</p></li><li style=\"\"><p>Continuous Improvement: Identify opportunities for process improvement, software optimization, and automation. Propose innovative ideas and solutions to enhance the software's performance and user experience.</p></li></ul><p><strong>Qualifications:</strong></p><ul style=\"\"><li style=\"\"><p>Education: Bachelor's or Master's degree in Computer Science, Software Engineering, or a related field.</p></li><li style=\"\"><p>Experience: Minimum of 5 years of professional experience in software development, preferably working on ERP software.</p></li><li style=\"\"><p>Technical Skills:</p><ul style=\"\"><li style=\"\"><p>Proficiency in 4D programming language.</p></li><li style=\"\"><p>Strong knowledge of database management systems (e.g., SQL, Oracle, MySQL).</p></li><li style=\"\"><p>Java, C++, or Python are a plus.</p></li><li style=\"\"><p>Experience with web technologies (HTML, CSS, JavaScript en REST API).</p></li><li style=\"\"><p>Familiarity with software development methodologies (Agile, Scrum) and version control systems (Git, SVN).</p></li></ul></li><li style=\"\"><p>ERP Knowledge: Prior experience with ERP software, especially in the graphical industry, is highly desirable. Understanding of ERP modules such as accounting, inventory management, production planning, and sales in the graphical industry is a plus. Knowledge of MultiPress as end user and/or implementation manager is also a plus.</p></li><li style=\"\"><p>Problem-Solving Skills: Ability to analyze complex problems, think critically, and propose effective solutions. Strong troubleshooting and debugging skills.</p></li><li style=\"\"><p>Communication Skills: Excellent verbal and written communication skills in Dutch and English (other languages are a plus). Ability to effectively communicate technical concepts to both technical and non-technical stakeholders.</p></li><li style=\"\"><p>Team Player: Strong collaboration and interpersonal skills. Ability to work effectively within a team environment and across departments.</p></li></ul><p>If you are passionate about ERP software development, possess strong analytical skills, and enjoy working in a dynamic and challenging environment, we would love to hear from you. Join our team and contribute to the success of our innovative MultiPress software solution.</p><img src=\"https://remotive.com/job/track/2069786/blank.gif?source=public_api\" alt=\"\"/>",
         "https://remotive.com/remote-jobs/software-dev/product-engineer-2069786",
         "https://remotive.com/job/2069786/logo",
         "Remotive.com"
        ],
        [
         "3",
         "2062716",
         "Technical Architect",
         "Tether",
         "2025-10-16T14:31:37",
         "full_time",
         "Software Development",
         "UK",
         "",
         "<p class=\"sc-1fwbcuw-0 kbZOmE\"> </p><p class=\"sc-1fwbcuw-0 kbZOmE\"></p><p></p><p><strong><em>Join Tether and Shape the Future of Digital Finance</em></strong></p><p>At\r\n Tether, we’re not just building products, we’re pioneering a global \r\nfinancial revolution. Our cutting-edge solutions empower businesses—from\r\n exchanges and wallets to payment processors and ATMs—to seamlessly \r\nintegrate reserve-backed tokens across blockchains. By harnessing the \r\npower of blockchain technology, Tether enables you to store, send, and \r\nreceive digital tokens instantly, securely, and globally, all at a \r\nfraction of the cost. Transparency is the bedrock of everything we do, \r\nensuring trust in every transaction.</p><p><strong><em>Innovate with Tether</em></strong></p><p><strong>Tether Finance: </strong>Our innovative product suite features the world’s most trusted stablecoin, <strong>USDT</strong>, relied upon by hundreds of millions worldwide, alongside pioneering digital asset tokenization services.</p><p>But that’s just the beginning:</p><p><strong>Tether Power: </strong>Driving\r\n sustainable growth, our energy solutions optimize excess power for \r\nBitcoin mining using eco-friendly practices in state-of-the-art, \r\ngeo-diverse facilities.</p><p><strong>Tether Data: </strong>Fueling \r\nbreakthroughs in AI and peer-to-peer technology, we reduce \r\ninfrastructure costs and enhance global communications with cutting-edge\r\n solutions like <strong>KEET</strong>, our flagship app that redefines secure and private data sharing.</p><p><strong>Tether Education</strong>:\r\n Democratizing access to top-tier digital learning, we empower \r\nindividuals to thrive in the digital and gig economies, driving global \r\ngrowth and opportunity.</p><p><strong>Tether Evolution</strong>: At the \r\nintersection of technology and human potential, we are pushing the \r\nboundaries of what is possible, crafting a future where innovation and \r\nhuman capabilities merge in powerful, unprecedented ways.</p><p><strong><em>Why Join Us?</em></strong></p><p>Our\r\n team is a global talent powerhouse, working remotely from every corner \r\nof the world. If you’re passionate about making a mark in the fintech \r\nspace, this is your opportunity to collaborate with some of the \r\nbrightest minds, pushing boundaries and setting new standards. We’ve \r\ngrown fast, stayed lean, and secured our place as a leader in the \r\nindustry.</p><p>If you have excellent English communication skills and \r\nare ready to contribute to the most innovative platform on the planet, \r\nTether is the place for you.</p><p><strong>Are you ready to be part of the future?</strong></p><p><strong><br></strong></p><p><strong>About the job</strong></p><p>We\r\n are seeking a highly skilled Technical Architect who brings real-world \r\narchitecture experience and excels in working collaboratively with \r\nengineers, designers and stakeholders. The role involves deeply \r\nunderstanding our tech stack (for apps, SDKs, SaaS platforms, etc.) and \r\napplying that knowledge to design scalable systems that adhere to our \r\ndesign principles.</p><p><strong>Responsibilities</strong></p><ul style=\"\"><li style=\"\"><p>Design\r\n robust and scalable architectures for all sorts of systems (apps, SDKs,\r\n SaaS platforms, etc.) that are tailor-made for our specific tech stack.\r\n Use systems-level thinking to structure components for reliability, \r\nscalability and maintainability.</p></li><li style=\"\"><p>Work closely with \r\ndevelopers, product managers, designers, and other stakeholders to \r\ntranslate requirements into clear, practical architectures.</p></li><li style=\"\"><p>Contribute to guiding development through code reviews, building PoCs and skeleton structures.</p></li><li style=\"\"><p>Write and review technical proposals to ensure they align with the agreed architecture.</p></li><li style=\"\"><p>Keep up to date with new tools, frameworks and ideas, and spot and suggest opportunities to improve our systems.</p></li></ul><div class=\"h2\">Job requirements</div><p class=\"sc-1fwbcuw-0 kbZOmE\"></p><p></p><ul style=\"\"><li style=\"\"><p>5+ years in Technical Architect (or similar) roles.</p></li><li style=\"\"><p>Strong experience in developing using JavaScript and C++ at a hands-on level.</p></li><li style=\"\"><p>Past experience developing or architecting successful and scalable applications. Experience with P2P is great to have.</p></li><li style=\"\"><p>Strong\r\n understanding of architecture principles, patterns and best practices, \r\ncombined with the ability to quickly absorb and adapt to new stacks and \r\ntools.</p></li><li style=\"\"><p>Skilled in collaborating and communicating technical ideas in a clear, concise, and friendly manner across diverse teams.</p></li><li style=\"\"><p>Proficiency in creating and managing architectural artifacts like diagrams, specs, and documentation.</p></li><li style=\"\"><p>Strong problem-solving skills and an aptitude for simplifying complex technical challenges.</p></li><li style=\"\"><p>Bachelor’s or Master’s degree in Computer Science, Engineering, or a related discipline.</p></li><br></ul><p></p><ul style=\"\"><br></ul><p><strong>Important information for candidates</strong><br>Recruitment\r\n scams have become increasingly common. To protect yourself, please keep\r\n the following in mind when applying for roles:</p><ul style=\"\"><li style=\"\"><p><strong>Apply only through our official channels.</strong> We\r\n do not use third-party platforms or agencies for recruitment unless \r\nclearly stated. All open roles are listed on our official careers \r\npage: https://tether.recruitee.com/</p></li><li style=\"\"><p><strong>Verify the recruiter’s identity.</strong> All\r\n our recruiters have verified LinkedIn profiles. If you’re unsure, you \r\ncan confirm their identity by checking their profile or contacting us \r\nthrough our website.</p></li><li style=\"\"><p><strong>Be cautious of unusual communication methods.</strong> We\r\n do not conduct interviews over WhatsApp, Telegram, or SMS. All \r\ncommunication is done through official company emails and platforms.</p></li><li style=\"\"><p><strong>Double-check email addresses.</strong> All communication from us will come from emails ending in <strong>@</strong><a href=\"http://tether.to\" rel=\"nofollow\" target=\"_blank\">tether.to</a><strong> or @</strong><a href=\"http://tether.io\" rel=\"nofollow\" target=\"_blank\">tether.io</a></p></li><li style=\"\"><p><strong>We will never request payment or financial details.</strong> If\r\n someone asks for personal financial information or payment at any point\r\n during the hiring process, it is a scam. Please report it immediately.</p></li></ul><p><strong>When in doubt, feel free to reach out through our official website.</strong></p><br><p class=\"sc-1fwbcuw-0 kbZOmE\"><br></p><p> </p>\n<img src=\"https://remotive.com/job/track/2062716/blank.gif?source=public_api\" alt=\"\"/>",
         "https://remotive.com/remote-jobs/software-dev/technical-architect-2062716",
         "https://remotive.com/job/2062716/logo",
         "Remotive.com"
        ],
        [
         "4",
         "2069850",
         "Bilingual (English and Indonesian/Portuguese) Expert AI Tutor",
         "Mercor",
         "2025-10-16T14:27:42",
         "contract",
         "Software Development",
         "USA",
         "$30 - $55 usd hourly",
         "<i>\n This description is a summary of our understanding of the job description. Click on 'Apply' button to find out more.\n</i>\n<br>\n<br>\n<p class=\"h2 tw-mt-4 remotive-text-bigger\">\n Role Description\n</p>\n<p>\n Join a leading AI lab’s cutting-edge GenAI team and help build foundational AI models from the ground up. We are seeking\n <strong>\n  Bilingual (English and Indonesian/Portuguese) Experts\n </strong>\n to bring in-depth language expertise and elevate the quality of AI training data. With your background in linguistics and bilingual expertise, you’ll craft content that is accurate, culturally relevant, and technically sound, aligned with real-world practice in either Indonesian or Portuguese.\n</p>\n<p>\n This is a\n <strong>\n  W2 employment opportunity\n </strong>\n with a long-term contract, 40 hours per week, working directly with frontier AI research teams.\n</p>\n<ul style=\"\">\n<li style=\"\">\n  Guide research teams to close knowledge gaps and improve AI model reasoning in your domain.\n </li>\n<li style=\"\">\n  Develop annotation standards, evaluation frameworks, and high-rigor rubrics for linguistic reasoning.\n </li>\n<li style=\"\">\n  Design challenging, domain-relevant tasks and write gold-standard solutions.\n </li>\n<li style=\"\">\n  Evaluate AI-generated outputs, providing structured feedback to ensure linguistic accuracy.\n </li>\n<li style=\"\">\n  Collaborate with peers to maintain consistency and depth in training data.\n </li>\n</ul>\n<p class=\"h2 tw-mt-4 remotive-text-bigger\">\n Qualifications\n</p>\n<ul style=\"\">\n<li style=\"\">\n  Fluent in English and either Indonesian or Portuguese (close to native)\n </li>\n<li style=\"\">\n  Based in the US\n </li>\n<li style=\"\">\n  Above 18\n </li>\n<li style=\"\">\n  Undergraduate degree required, graduate degree preferred. Specialties in STEM, Business or Health fields are a plus.\n </li>\n<li style=\"\">\n  1+ years of experience. Experience with translation is a plus.\n </li>\n</ul>\n<!-- This section is missing in the input -->\n<p class=\"h2 tw-mt-4 remotive-text-bigger\">\n Benefits\n</p>\n<ul style=\"\">\n<li style=\"\">\n  Pay range: $30–$55/hr (based on expertise and experience)\n </li>\n<li style=\"\">\n  Role length: 3+ months\n </li>\n<li style=\"\">\n  Structure: W2 employment with flexible, remote work\n </li>\n<li style=\"\">\n  Commitment: 40 hrs/week; 2–5 calibration calls with research teams weekly\n </li>\n<li style=\"\">\n  Opportunity to directly shape the next generation of advanced AI systems at the frontier of language and technology\n </li>\n</ul>\n<p class=\"h2 tw-mt-4 remotive-text-bigger\">\n Company Description\n</p>\n<!-- This section is missing in the input -->\n<img src=\"https://remotive.com/job/track/2069850/blank.gif?source=public_api\" alt=\"\"/>",
         "https://remotive.com/remote-jobs/software-dev/bilingual-english-and-indonesian-portuguese-expert-ai-tutor-2069850",
         "https://remotive.com/job/2069850/logo",
         "Remotive.com"
        ]
       ],
       "shape": {
        "columns": 12,
        "rows": 5
       }
      },
      "text/html": [
       "<div>\n",
       "<style scoped>\n",
       "    .dataframe tbody tr th:only-of-type {\n",
       "        vertical-align: middle;\n",
       "    }\n",
       "\n",
       "    .dataframe tbody tr th {\n",
       "        vertical-align: top;\n",
       "    }\n",
       "\n",
       "    .dataframe thead th {\n",
       "        text-align: right;\n",
       "    }\n",
       "</style>\n",
       "<table border=\"1\" class=\"dataframe\">\n",
       "  <thead>\n",
       "    <tr style=\"text-align: right;\">\n",
       "      <th></th>\n",
       "      <th>Job ID</th>\n",
       "      <th>Job Title</th>\n",
       "      <th>Company Name</th>\n",
       "      <th>Publication Date</th>\n",
       "      <th>Job Type</th>\n",
       "      <th>Category</th>\n",
       "      <th>Candidate Required Location</th>\n",
       "      <th>Salary Range</th>\n",
       "      <th>Job Description</th>\n",
       "      <th>Source URL</th>\n",
       "      <th>Company Logo</th>\n",
       "      <th>Job Board</th>\n",
       "    </tr>\n",
       "  </thead>\n",
       "  <tbody>\n",
       "    <tr>\n",
       "      <th>0</th>\n",
       "      <td>2069789</td>\n",
       "      <td>Shopify Developer</td>\n",
       "      <td>Tidal Commerce</td>\n",
       "      <td>2025-10-16T18:50:24</td>\n",
       "      <td>part_time</td>\n",
       "      <td>Software Development</td>\n",
       "      <td>LATAM, India</td>\n",
       "      <td></td>\n",
       "      <td>&lt;p style=\"font-weight:400;margin:0px;line-heig...</td>\n",
       "      <td>https://remotive.com/remote-jobs/software-dev/...</td>\n",
       "      <td>https://remotive.com/job/2069789/logo</td>\n",
       "      <td>Remotive.com</td>\n",
       "    </tr>\n",
       "    <tr>\n",
       "      <th>1</th>\n",
       "      <td>2069788</td>\n",
       "      <td>Principal Software Engineer</td>\n",
       "      <td>Cint</td>\n",
       "      <td>2025-10-16T18:50:23</td>\n",
       "      <td>full_time</td>\n",
       "      <td>Software Development</td>\n",
       "      <td>Brazil</td>\n",
       "      <td></td>\n",
       "      <td>&lt;br&gt;&lt;br&gt;&lt;div class=\"h3\"&gt;Company Description&lt;/d...</td>\n",
       "      <td>https://remotive.com/remote-jobs/software-dev/...</td>\n",
       "      <td>https://remotive.com/job/2069788/logo</td>\n",
       "      <td>Remotive.com</td>\n",
       "    </tr>\n",
       "    <tr>\n",
       "      <th>2</th>\n",
       "      <td>2069786</td>\n",
       "      <td>Product Engineer</td>\n",
       "      <td>Dataline nv</td>\n",
       "      <td>2025-10-16T18:50:22</td>\n",
       "      <td>full_time</td>\n",
       "      <td>Software Development</td>\n",
       "      <td>Belgium</td>\n",
       "      <td></td>\n",
       "      <td>&lt;p&gt;We are a leading provider of enterprise res...</td>\n",
       "      <td>https://remotive.com/remote-jobs/software-dev/...</td>\n",
       "      <td>https://remotive.com/job/2069786/logo</td>\n",
       "      <td>Remotive.com</td>\n",
       "    </tr>\n",
       "    <tr>\n",
       "      <th>3</th>\n",
       "      <td>2062716</td>\n",
       "      <td>Technical Architect</td>\n",
       "      <td>Tether</td>\n",
       "      <td>2025-10-16T14:31:37</td>\n",
       "      <td>full_time</td>\n",
       "      <td>Software Development</td>\n",
       "      <td>UK</td>\n",
       "      <td></td>\n",
       "      <td>&lt;p class=\"sc-1fwbcuw-0 kbZOmE\"&gt; &lt;/p&gt;&lt;p class=\"...</td>\n",
       "      <td>https://remotive.com/remote-jobs/software-dev/...</td>\n",
       "      <td>https://remotive.com/job/2062716/logo</td>\n",
       "      <td>Remotive.com</td>\n",
       "    </tr>\n",
       "    <tr>\n",
       "      <th>4</th>\n",
       "      <td>2069850</td>\n",
       "      <td>Bilingual (English and Indonesian/Portuguese) ...</td>\n",
       "      <td>Mercor</td>\n",
       "      <td>2025-10-16T14:27:42</td>\n",
       "      <td>contract</td>\n",
       "      <td>Software Development</td>\n",
       "      <td>USA</td>\n",
       "      <td>$30 - $55 usd hourly</td>\n",
       "      <td>&lt;i&gt;\\n This description is a summary of our und...</td>\n",
       "      <td>https://remotive.com/remote-jobs/software-dev/...</td>\n",
       "      <td>https://remotive.com/job/2069850/logo</td>\n",
       "      <td>Remotive.com</td>\n",
       "    </tr>\n",
       "  </tbody>\n",
       "</table>\n",
       "</div>"
      ],
      "text/plain": [
       "    Job ID                                          Job Title    Company Name  \\\n",
       "0  2069789                                  Shopify Developer  Tidal Commerce   \n",
       "1  2069788                        Principal Software Engineer            Cint   \n",
       "2  2069786                                   Product Engineer     Dataline nv   \n",
       "3  2062716                                Technical Architect          Tether   \n",
       "4  2069850  Bilingual (English and Indonesian/Portuguese) ...          Mercor   \n",
       "\n",
       "      Publication Date   Job Type              Category  \\\n",
       "0  2025-10-16T18:50:24  part_time  Software Development   \n",
       "1  2025-10-16T18:50:23  full_time  Software Development   \n",
       "2  2025-10-16T18:50:22  full_time  Software Development   \n",
       "3  2025-10-16T14:31:37  full_time  Software Development   \n",
       "4  2025-10-16T14:27:42   contract  Software Development   \n",
       "\n",
       "  Candidate Required Location          Salary Range  \\\n",
       "0                LATAM, India                         \n",
       "1                      Brazil                         \n",
       "2                     Belgium                         \n",
       "3                          UK                         \n",
       "4                         USA  $30 - $55 usd hourly   \n",
       "\n",
       "                                     Job Description  \\\n",
       "0  <p style=\"font-weight:400;margin:0px;line-heig...   \n",
       "1  <br><br><div class=\"h3\">Company Description</d...   \n",
       "2  <p>We are a leading provider of enterprise res...   \n",
       "3  <p class=\"sc-1fwbcuw-0 kbZOmE\"> </p><p class=\"...   \n",
       "4  <i>\\n This description is a summary of our und...   \n",
       "\n",
       "                                          Source URL  \\\n",
       "0  https://remotive.com/remote-jobs/software-dev/...   \n",
       "1  https://remotive.com/remote-jobs/software-dev/...   \n",
       "2  https://remotive.com/remote-jobs/software-dev/...   \n",
       "3  https://remotive.com/remote-jobs/software-dev/...   \n",
       "4  https://remotive.com/remote-jobs/software-dev/...   \n",
       "\n",
       "                            Company Logo     Job Board  \n",
       "0  https://remotive.com/job/2069789/logo  Remotive.com  \n",
       "1  https://remotive.com/job/2069788/logo  Remotive.com  \n",
       "2  https://remotive.com/job/2069786/logo  Remotive.com  \n",
       "3  https://remotive.com/job/2062716/logo  Remotive.com  \n",
       "4  https://remotive.com/job/2069850/logo  Remotive.com  "
      ]
     },
     "metadata": {},
     "output_type": "display_data"
    }
   ],
   "source": [
    "if __name__ == \"__main__\":\n",
    "\n",
    " # Example usage: Fetch 500 software development jobs\n",
    " scraped_data = scrape_remotive_api(category=\"software-dev\", limit=500)\n",
    " if not scraped_data.empty:\n",
    "    output_filename = \"remotive_jobs.csv\"\n",
    "    scraped_data.to_csv(output_filename, index=False)\n",
    "    print(f\"Scraped data saved to {output_filename}\")\n",
    "    display(Markdown(f\"### Sample of Scraped Data from Remotive API\"))\n",
    "    display(scraped_data.head())\n",
    " else:\n",
    "    print(\"No job listings were fetched from Remotive API. Please check the logs above for errors.\")\n",
    "    display(Markdown( \"### No Data Fetched.\"))\n",
    "    display(Markdown(\"API call did not return any job listings. Review the console output for error messages or check the API documentation for valid parameters.\"))"
   ]
  },
  {
   "cell_type": "markdown",
   "id": "e5e3d386",
   "metadata": {},
   "source": [
    "## 4. API Usage Best Practices and Considerations"
   ]
  },
  {
   "cell_type": "markdown",
   "id": "d57b2af2",
   "metadata": {},
   "source": [
    "Using an API for data collection offers several advantages over traditional web scraping:"
   ]
  },
  {
   "cell_type": "markdown",
   "id": "cba09a24",
   "metadata": {},
   "source": [
    "### Reliability\n",
    "APIs provide a stable and structured way to access data. They are less prone to breaking due to website design changes, which is a common challenge with HTML parsing"
   ]
  },
  {
   "cell_type": "markdown",
   "id": "0b28c7c9",
   "metadata": {},
   "source": [
    "### Efficiency\n",
    "APIs typically return data in a machine-readable format (like JSON), which is much faster and easier to parse than HTML. This reduces development time and computational resources."
   ]
  },
  {
   "cell_type": "markdown",
   "id": "ba9eb8cf",
   "metadata": {},
   "source": [
    "### Politeness and Rate Limits\n",
    "API providers usually have clear guidelines on usage and rate limits. Adhering to these limits (e.g., by introducing `time.sleep()` if making multiple sequential calls) ensures continued access and good standing with the service provider. Remotive's API documentation advises a maximum of 4 requests per day for general data, and excessive requests (more than 2x per minute) will be blocked."
   ]
  },
  {
   "cell_type": "markdown",
   "id": "2eaa0a25",
   "metadata": {},
   "source": [
    "### Data Quality\n",
    "Data obtained through an API is often cleaner and more consistent, as it's directly provided by the source in a structured format, reducing the need for extensive data cleaning and transformation."
   ]
  },
  {
   "cell_type": "markdown",
   "id": "775df39d",
   "metadata": {},
   "source": [
    "### Terms of Service\n",
    "Always review the API's terms of service. For Remotive, it's crucial to link back to the original job URL and mention Remotive as the source if you share their job listings. Also, note that jobs displayed via the public API are delayed by 24 hours."
   ]
  },
  {
   "cell_type": "markdown",
   "id": "92240528",
   "metadata": {},
   "source": [
    "### Integration into BI Projects\n",
    "For a full BI project, the data fetched via this API would be a crucial input. It would then be loaded into a data warehouse, transformed, enriched, and used to build interactive dashboards (e.g., in Power BI) for trend analysis, market insights, and data-driven decision-making regarding remote work trends."
   ]
  }
 ],
 "metadata": {
  "kernelspec": {
   "display_name": "Python 3",
   "language": "python",
   "name": "python3"
  },
  "language_info": {
   "codemirror_mode": {
    "name": "ipython",
    "version": 3
   },
   "file_extension": ".py",
   "mimetype": "text/x-python",
   "name": "python",
   "nbconvert_exporter": "python",
   "pygments_lexer": "ipython3",
   "version": "3.13.9"
  }
 },
 "nbformat": 4,
 "nbformat_minor": 5
}
