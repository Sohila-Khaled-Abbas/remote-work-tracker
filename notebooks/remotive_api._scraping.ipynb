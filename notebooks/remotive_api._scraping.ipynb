{
 "cells": [
  {
   "cell_type": "markdown",
   "id": "bebb0788",
   "metadata": {},
   "source": [
    "# Remote Work Job Scraper: Remotive.com API"
   ]
  },
  {
   "cell_type": "markdown",
   "id": "d58a3d79",
   "metadata": {},
   "source": [
    "This Jupyter Notebook demonstrates how to fetch real remote job postings using the [Remotive.com Public API](https://remotive.com/remote-jobs/api). Utilizing an API is often the most robust and polite method for collecting data from websites, as it bypasses the complexities of HTML parsing and anti-scraping measures associated with traditional web scraping."
   ]
  },
  {
   "cell_type": "markdown",
   "id": "aeb2f1d6",
   "metadata": {},
   "source": [
    "## 1. Setup and Configuration"
   ]
  },
  {
   "cell_type": "markdown",
   "id": "c72f3d0d",
   "metadata": {},
   "source": [
    "We begin by importing the necessary Python libraries: `requests` for making HTTP requests to the API, `pandas` for data manipulation, and `time` for potential delays (though less critical with APIs, it's good practice if rate limits are strict)."
   ]
  },
  {
   "cell_type": "code",
   "execution_count": 1,
   "id": "e9d333d0",
   "metadata": {},
   "outputs": [],
   "source": [
    "import requests\n",
    "import pandas as pd\n",
    "import time\n",
    "from IPython.display import display, Markdown"
   ]
  },
  {
   "cell_type": "markdown",
   "id": "97a529fa",
   "metadata": {},
   "source": [
    "## 2. API Data Fetching Function (`scrape_remotive_api`)"
   ]
  },
  {
   "cell_type": "markdown",
   "id": "e41ed04d",
   "metadata": {},
   "source": [
    "This function is designed to interact with the Remotive API. It constructs the API request with optional parameters for filtering by category."
   ]
  },
  {
   "cell_type": "code",
   "execution_count": 7,
   "id": "65a265ee",
   "metadata": {},
   "outputs": [],
   "source": [
    "def scrape_remotive_api(category=None, search=None, limit=None):\n",
    "    base_api_url = \"https://remotive.com/api/remote-jobs\"\n",
    "    params = {}\n",
    "    if category:\n",
    "        params['category'] = category\n",
    "    if search:\n",
    "        params['search'] = search\n",
    "    if limit:\n",
    "        params['limit'] = limit        \n",
    "    job_listings = []\n",
    "    print(f\"Starting to fetch jobs from Remotive API with parameters: {params}\")\n",
    "    try:\n",
    "        response = requests.get(base_api_url, params=params)\n",
    "        response.raise_for_status()  # Raise an exception for HTTP errors\n",
    "        data = response.json()\n",
    "\n",
    "        if 'jobs' in data:\n",
    "            for job in data['jobs']:\n",
    "                job_data = {\n",
    "                    \"Job ID\": job.get(\"id\"),\n",
    "                    \"Job Title\": job.get(\"title\"),\n",
    "                    \"Company Name\": job.get(\"company_name\"),\n",
    "                    \"Publication Date\": job.get(\"publication_date\"),\n",
    "                    \"Job Type\": job.get(\"job_type\"),\n",
    "                    \"Category\": job.get(\"category\"),\n",
    "                    \"Candidate Required Location\": job.get(\"candidate_required_location\"),\n",
    "                    \"Salary Range\": job.get(\"salary\"),\n",
    "                    \"Job Description\": job.get(\"description\"),\n",
    "                    \"Source URL\": job.get(\"url\"),\n",
    "                    \"Company Logo\": job.get(\"company_logo\"),\n",
    "                    \"Job Board\": \"Remotive.com\"\n",
    "                }\n",
    "                job_listings.append(job_data)\n",
    "        else:\n",
    "            print(\"No 'jobs' key found in the API response.\")\n",
    "\n",
    "    except requests.exceptions.RequestException as e:\n",
    "        print(f\"Error during request to Remotive API: {e}\")\n",
    "    except ValueError as e:\n",
    "        print(f\"Error decoding JSON response from Remotive API: {e}\")\n",
    "    except Exception as e:\n",
    "        print(f\"An unexpected error occurred: {e}\")\n",
    "    df = pd.DataFrame(job_listings)\n",
    "    return df    "
   ]
  },
  {
   "cell_type": "markdown",
   "id": "050a8000",
   "metadata": {},
   "source": [
    "## 3. Execution and Data Storage"
   ]
  },
  {
   "cell_type": "markdown",
   "id": "69f56211",
   "metadata": {},
   "source": [
    "This section demonstrates how to call the `scrape_remotive_api` function, retrieve job data, and save it to a CSV file. For this example, we'll fetch 50 jobs from the 'Software Development' category."
   ]
  },
  {
   "cell_type": "code",
   "execution_count": 9,
   "id": "fd288225",
   "metadata": {},
   "outputs": [
    {
     "name": "stdout",
     "output_type": "stream",
     "text": [
      "Starting to fetch jobs from Remotive API with parameters: {'category': 'software-dev', 'limit': 50}\n",
      "Scraped data saved to remotive_jobs.csv\n"
     ]
    },
    {
     "data": {
      "text/markdown": [
       "### Sample of Scraped Data from Remotive API"
      ],
      "text/plain": [
       "<IPython.core.display.Markdown object>"
      ]
     },
     "metadata": {},
     "output_type": "display_data"
    },
    {
     "data": {
      "application/vnd.microsoft.datawrangler.viewer.v0+json": {
       "columns": [
        {
         "name": "index",
         "rawType": "int64",
         "type": "integer"
        },
        {
         "name": "Job ID",
         "rawType": "int64",
         "type": "integer"
        },
        {
         "name": "Job Title",
         "rawType": "object",
         "type": "string"
        },
        {
         "name": "Company Name",
         "rawType": "object",
         "type": "string"
        },
        {
         "name": "Publication Date",
         "rawType": "object",
         "type": "string"
        },
        {
         "name": "Job Type",
         "rawType": "object",
         "type": "string"
        },
        {
         "name": "Category",
         "rawType": "object",
         "type": "string"
        },
        {
         "name": "Candidate Required Location",
         "rawType": "object",
         "type": "string"
        },
        {
         "name": "Salary Range",
         "rawType": "object",
         "type": "string"
        },
        {
         "name": "Job Description",
         "rawType": "object",
         "type": "string"
        },
        {
         "name": "Source URL",
         "rawType": "object",
         "type": "string"
        },
        {
         "name": "Company Logo",
         "rawType": "object",
         "type": "string"
        },
        {
         "name": "Job Board",
         "rawType": "object",
         "type": "string"
        }
       ],
       "ref": "dc3de45a-81b1-48d9-84f0-ca8f946cba4a",
       "rows": [
        [
         "0",
         "1591692",
         "Senior ML Engineer",
         "Proxify",
         "2025-10-14T16:15:59",
         "full_time",
         "Software Development",
         "CET +/- 3 HOURS",
         "$45k - $80k",
         "<p dir=\"ltr\" style=\"line-height: 1.656; margin-top: 0pt; margin-bottom: 0pt;\"><span style=\"color: #0e101a; background-color: transparent; font-weight: bold; font-style: normal; font-variant: normal; text-decoration: none; vertical-align: baseline; white-space: pre-wrap;\">The Role:</span></p>\n<p dir=\"ltr\" style=\"line-height: 1.656; margin-top: 0pt; margin-bottom: 0pt;\"><strong> </strong></p>\n<p dir=\"ltr\" style=\"line-height: 1.656; margin-top: 0pt; margin-bottom: 0pt;\"><span id=\"docs-internal-guid-2bb33b33-7fff-2b1c-db95-cba4701159a0\"><span style=\"color: #0e101a; background-color: transparent; font-variant-numeric: normal; font-variant-east-asian: normal; font-variant-alternates: normal; font-variant-position: normal; font-variant-emoji: normal; vertical-align: baseline; white-space-collapse: preserve;\">We are looking for a Senior ML </span><span style=\"color: #252525; background-color: transparent; font-variant-numeric: normal; font-variant-east-asian: normal; font-variant-alternates: normal; font-variant-position: normal; font-variant-emoji: normal; vertical-align: baseline; white-space-collapse: preserve;\">engineer for one of our clients.</span><span style=\"color: #0e101a; background-color: transparent; font-variant-numeric: normal; font-variant-east-asian: normal; font-variant-alternates: normal; font-variant-position: normal; font-variant-emoji: normal; vertical-align: baseline; white-space-collapse: preserve;\"> You are a perfect candidate if you are growth-oriented, you love what you do, and you enjoy working on new ideas to develop exciting products and growth features.</span></span></p>\n<p dir=\"ltr\" style=\"line-height: 1.656; margin-top: 0pt; margin-bottom: 0pt;\"><strong> </strong></p>\n<p class=\"h3\" dir=\"ltr\" style=\"line-height: 1.656; margin-top: 0pt; margin-bottom: 0pt;\"><span style=\"color: #0e101a; background-color: transparent; font-weight: bold; font-style: normal; font-variant: normal; text-decoration: none; vertical-align: baseline; white-space: pre-wrap;\">What we are looking for:</span></p>\n<p class=\"h3\" dir=\"ltr\" style=\"line-height: 1.656; margin-top: 0pt; margin-bottom: 0pt;\"><span style=\"color: #0e101a; background-color: transparent; font-weight: bold; font-style: normal; font-variant: normal; text-decoration: none; vertical-align: baseline; white-space: pre-wrap;\"> </span></p>\n<p class=\"h3\" dir=\"ltr\" style=\"line-height: 1.656; margin-top: 0pt; margin-bottom: 0pt;\"><span style=\"color: #0e101a; background-color: transparent; font-weight: bold; font-style: normal; font-variant: normal; text-decoration: none; vertical-align: baseline; white-space: pre-wrap;\"><span id=\"docs-internal-guid-33f6de76-7fff-8118-f1fe-4e907107a23b\" style=\"font-weight: normal;\"> </span></span></p>\n<ul style=\"\">\n<li dir=\"ltr\" style=\"\">\n<p dir=\"ltr\" style=\"line-height: 1.38; margin-top: 0pt; margin-bottom: 0pt;\"><span style=\"color: #000000; background-color: transparent; font-weight: 400; font-style: normal; font-variant: normal; text-decoration: none; vertical-align: baseline; white-space: pre-wrap;\">Proven experience in developing machine learning models</span></p>\n</li>\n<li dir=\"ltr\" style=\"\">\n<p dir=\"ltr\" style=\"line-height: 1.38; margin-top: 0pt; margin-bottom: 0pt;\"><span style=\"color: #000000; background-color: transparent; font-weight: 400; font-style: normal; font-variant: normal; text-decoration: none; vertical-align: baseline; white-space: pre-wrap;\">Strong analytical and problem solving skills</span></p>\n</li>\n<li dir=\"ltr\" style=\"\">\n<p dir=\"ltr\" style=\"line-height: 1.38; margin-top: 0pt; margin-bottom: 0pt;\"><span style=\"color: #000000; background-color: transparent; font-weight: 400; font-style: normal; font-variant: normal; text-decoration: none; vertical-align: baseline; white-space: pre-wrap;\">Experience with programming languages such as Python, R, and Java</span></p>\n</li>\n<li dir=\"ltr\" style=\"\">\n<p dir=\"ltr\" style=\"line-height: 1.38; margin-top: 0pt; margin-bottom: 0pt;\"><span style=\"color: #000000; background-color: transparent; font-weight: 400; font-style: normal; font-variant: normal; text-decoration: none; vertical-align: baseline; white-space: pre-wrap;\">Experience with machine learning frameworks such as TensorFlow and Keras</span></p>\n</li>\n<li dir=\"ltr\" style=\"\">\n<p dir=\"ltr\" style=\"line-height: 1.38; margin-top: 0pt; margin-bottom: 0pt;\"><span style=\"color: #000000; background-color: transparent; font-weight: 400; font-style: normal; font-variant: normal; text-decoration: none; vertical-align: baseline; white-space: pre-wrap;\">Knowledge of data mining, statistics and data analysis</span></p>\n</li>\n<li dir=\"ltr\" style=\"\">\n<p dir=\"ltr\" style=\"line-height: 1.38; margin-top: 0pt; margin-bottom: 0pt;\"><span style=\"color: #000000; background-color: transparent; font-weight: 400; font-style: normal; font-variant: normal; text-decoration: none; vertical-align: baseline; white-space: pre-wrap;\">Familiarity with databases and data warehouses</span></p>\n</li>\n<li dir=\"ltr\" style=\"\">\n<p dir=\"ltr\" style=\"line-height: 1.38; margin-top: 0pt; margin-bottom: 30pt;\"><span style=\"color: #000000; background-color: transparent; font-weight: 400; font-style: normal; font-variant: normal; text-decoration: none; vertical-align: baseline; white-space: pre-wrap;\">Time zone: CET (+/- 3 hours). We are unable to consider applications from candidates in other time zones</span></p>\n</li>\n</ul>\n<p class=\"h3\" dir=\"ltr\" style=\"line-height: 1.656; margin-top: 0pt; margin-bottom: 0pt;\">Responsibilities:</p>\n<p class=\"h3\" dir=\"ltr\" style=\"line-height: 1.656; margin-top: 0pt; margin-bottom: 0pt;\"> </p>\n<p class=\"h3\" dir=\"ltr\" style=\"line-height: 1.656; margin-top: 0pt; margin-bottom: 0pt;\"> </p>\n<ul style=\"\">\n<li dir=\"ltr\" style=\"\">\n<p dir=\"ltr\" style=\"line-height: 1.38; margin-top: 4pt; margin-bottom: 0pt;\"><span style=\"color: #000000; background-color: transparent; font-weight: 400; font-style: normal; font-variant: normal; text-decoration: none; vertical-align: baseline; white-space: pre-wrap;\">Design scalable and reliable data pipelines for production and monitor models</span></p>\n</li>\n<li dir=\"ltr\" style=\"\">\n<p dir=\"ltr\" style=\"line-height: 1.38; margin-top: 0pt; margin-bottom: 0pt;\"><span style=\"color: #000000; background-color: transparent; font-weight: 400; font-style: normal; font-variant: normal; text-decoration: none; vertical-align: baseline; white-space: pre-wrap;\">Develop classification and prediction algorithms to detect new market conditions in real-time</span></p>\n</li>\n<li dir=\"ltr\" style=\"\">\n<p dir=\"ltr\" style=\"line-height: 1.38; margin-top: 0pt; margin-bottom: 0pt;\"><span style=\"color: #000000; background-color: transparent; font-weight: 400; font-style: normal; font-variant: normal; text-decoration: none; vertical-align: baseline; white-space: pre-wrap;\">Identify, research, and analyze new data sources to improve model accuracy</span></p>\n</li>\n<li dir=\"ltr\" style=\"\">\n<p dir=\"ltr\" style=\"line-height: 1.38; margin-top: 0pt; margin-bottom: 4pt;\"><span style=\"color: #000000; background-color: transparent; font-weight: 400; font-style: normal; font-variant: normal; text-decoration: none; vertical-align: baseline; white-space: pre-wrap;\">Work cross-functionally with optimization engineers, traders, market analysts, and software engineers to continuously improve performance</span></p>\n</li>\n<li dir=\"ltr\" style=\"\">\n<p dir=\"ltr\" style=\"line-height: 1.38; margin-top: 4pt; margin-bottom: 0pt;\"><span style=\"color: #000000; background-color: transparent; font-weight: 400; font-style: normal; font-variant: normal; text-decoration: none; vertical-align: baseline; white-space: pre-wrap;\">Develop production code to run locally and in the cloud - debug and tune production systems</span></p>\n</li>\n</ul>\n<p><span style=\"color: #000000;\"> </span></p>\n<p><span style=\"color: #000000;\"> </span></p>\n<p class=\"h2\" style=\"margin-left: 0pt; color: #532a21;\"><span style=\"font-weight: 600; color: #000000; letter-spacing: 0.75px;\">What we offer:</span></p>\n<p class=\"h3\" style=\"color: #532a21;\"> </p>\n<ul style=\"\">\n<li style=\"\"><span style=\"font-weight: 600; color: #000000; letter-spacing: 0.75px;\">Get paid, not played</span></li>\n</ul>\n<ul style=\"\">\n<li style=\"\">No more unreliable clients. Enjoy on-time monthly payments with flexible withdrawal options.</li>\n</ul>\n<ul style=\"\">\n<li style=\"\"><span style=\"font-weight: 600; color: #000000; letter-spacing: 0.75px;\">Predictable project hours</span></li>\n<li style=\"\">Enjoy a harmonious work-life balance with consistent 8-hour working days with clients.</li>\n<li style=\"\"><span style=\"font-weight: 600; color: #000000; letter-spacing: 0.75px;\">Flex days, so you can recharge</span></li>\n<li style=\"\">Enjoy up to 24 flex days off per year without losing pay, for full-time positions found through Proxify.</li>\n<li style=\"\"><span style=\"font-weight: 600; color: #000000; letter-spacing: 0.75px;\">Career-accelerating positions at cutting-edge companies</span></li>\n<li style=\"\">Discover exclusive long-term remote positions at the world's most exciting companies.</li>\n<li style=\"\"><span style=\"font-weight: 600; color: #000000; letter-spacing: 0.75px;\">Hand-picked opportunities just for you</span></li>\n<li style=\"\">Skip the typical recruitment roadblocks and biases with personally matched positions.</li>\n<li style=\"\"><span style=\"font-weight: 600; color: #000000; letter-spacing: 0.75px;\">One seamless process, multiple opportunities</span></li>\n<li style=\"\">A one-time contracting process for endless opportunities, with no extra assessments.</li>\n</ul>\n<ul style=\"\">\n<li style=\"\"><span style=\"font-weight: 600; color: #000000; letter-spacing: 0.75px;\">Compensation</span></li>\n<li style=\"\">Enjoy the same pay, every month with positions landed through Proxify.</li>\n</ul>\n<img src=\"https://remotive.com/job/track/1591692/blank.gif?source=public_api\" alt=\"\"/>",
         "https://remotive.com/remote-jobs/software-dev/senior-ml-engineer-1591692",
         "https://remotive.com/job/1591692/logo",
         "Remotive.com"
        ],
        [
         "1",
         "2069585",
         "AI Automation Engineer",
         "Supertech Group",
         "2025-10-14T14:51:38",
         "full_time",
         "Software Development",
         "India",
         "",
         "<p>Do you want to love what you do at work? Do you want to make a difference, an impact, and transform peoples lives? Do you want to work with a team that believes in disrupting the normal, boring, and average?</p><p>If yes, then this is the job you are looking for , <strong>webook.com</strong> is Saudi’s #1 event ticketing and experience booking platform in terms of technology, features, agility, revenue serving some of the largest mega events in the Kingdom surpassing over 2 billion in sales.  <strong>webook.com</strong> is part of the Supertech Group also consisting of UXBERT Labs, one of the best digital and user experience design agencies in the GCC, along with Kafu Games, the largest esports tournament platform in MENA. </p><p></p><p><strong>Role Overview </strong></p><p>Own the design and operation of internal automations and AI-powered agents. You’ll turn API workflows into reliable, observable systems using n8n and LLMs.</p><p></p><p><strong>Key Responsibilities</strong>:</p><ul style=\"\"><ul style=\"\"><li style=\"\">Build and maintain n8n workflows and custom nodes that orchestrate APIs, webhooks, and LLM calls.</li><li style=\"\">Design AI-assisted flows (classification, extraction, summarization, decision support) with clear guardrails.</li><li style=\"\">Implement secrets management, RBAC, rate limiting, and prompt-injection defenses.</li><li style=\"\">Add monitoring, alerting, and cost tracking; set SLOs for critical automations.</li><li style=\"\">Write concise docs/playbooks; enable self-serve patterns for teammates.</li><li style=\"\">Continuously improve reliability, latency, and cost via testing and iteration.</li></ul></ul><p></p><p><strong>Requirements</strong></p><ul style=\"\"><ul style=\"\"><li style=\"\">Strong hands-on with n8n (or Make/Zapier/Airflow) and REST/GraphQL APIs.</li><li style=\"\">Proficiency in Python or other programming languages for custom logic/integrations.</li><li style=\"\">Practical LLM experience (function calling, prompting, evaluation basics).</li><li style=\"\">Solid grasp of auth (OAuth2/JWT), webhooks, queues, retries, and idempotency.</li><li style=\"\">SQL fundamentals and basic NoSQL familiarity.</li><li style=\"\">Security mindset: data handling, secrets, dependency hygiene.</li></ul></ul><p><strong>Nice-to-Haves</strong></p><ul style=\"\"><ul style=\"\"><li style=\"\">GCP/AWS, Docker/Kubernetes, GitOps/CI.</li><li style=\"\">Observability (logs/metrics/traces).</li><li style=\"\">Exposure to LangChain or RPA/BPM concepts.</li></ul></ul><img src=\"https://remotive.com/job/track/2069585/blank.gif?source=public_api\" alt=\"\"/>",
         "https://remotive.com/remote-jobs/software-dev/ai-automation-engineer-2069585",
         "https://remotive.com/job/2069585/logo",
         "Remotive.com"
        ],
        [
         "2",
         "2069584",
         "Senior Software Engineer",
         "Zscaler",
         "2025-10-14T14:51:36",
         "full_time",
         "Software Development",
         "USA",
         "$119,000 - $170,000 usd",
         "<div class='\"content-intro\"'><p>About <strong>Zscaler</strong></p>\n<p>Serving thousands of enterprise customers around the world including 45% of Fortune 500 companies, Zscaler (NASDAQ: ZS) was founded in 2007 with a mission to make the cloud a safe place to do business and a more enjoyable experience for enterprise users. As the operator of the world’s largest security cloud, Zscaler accelerates digital transformation so enterprises can be more agile, efficient, resilient, and secure. The pioneering, AI-powered Zscaler Zero Trust Exchange™ platform, which is found in our SASE and SSE offerings, protects thousands of enterprise customers from cyberattacks and data loss by securely connecting users, devices, and applications in any location.</p>\n<p>Named a Best Workplace in Technology by Fortune and others, Zscaler fosters an inclusive and supportive culture that is home to some of the brightest minds in the industry. If you thrive in an environment that is fast-paced and collaborative, and you are passionate about building and innovating for the greater good, come make your next move with Zscaler. </p></div><p>The Red Canary engineering team at Zscaler builds and operates the platform and products that deliver unmatched threat detection and response! We process billions of events per day from hundreds of thousands of systems worldwide. Every engineer is empowered to make a difference for our customers with unique opportunities to learn new technology and tackle the hardest problems in cyber security.</p>\n<p>We are searching for a Senior Software Engineer to join us in building the Red Canary platform and its supporting products. Reporting to the Manager of Software Engineering, you'll be responsible for: </p>\n<ul style=\"\">\n<li style=\"\">Continuously shipping quality product by  writing well organized, testable and high performing code</li>\n<li style=\"\">Addressing system and software bugs, developing product enhancements, and launching new features to scale within a Product Team construct</li>\n<li style=\"\">Supporting products and applications that operate in a 24x7 production environment, including participating in an on call rotation</li>\n<li style=\"\">Writing clear and concise documentation; share knowledge internally and across teams</li>\n<li style=\"\">Helping identify technical risk and mitigation plans</li>\n<li style=\"\">Collaborating with Product Management and Design teams taking small to medium features from concept to shipping as the sole programmer</li>\n</ul>\n<div class=\"h3\"><strong>What We're Looking for (Minimum Qualifications)</strong></div>\n<ul style=\"\">\n<li style=\"\">4+ years of experience shipping high-quality SaaS products and features with experience in taking ownership of a product or feature from concept to launch</li>\n<li style=\"\">Experienced with Ruby on Rails (or similar web application technologies) and other common libraries such as RSpec and Sidekiq</li>\n<li style=\"\">Experience with React, HAML, Redis, Postgres, AWS, Docker or a combination of similar tech</li>\n<li style=\"\">Confidence making architectural design decisions that improve scalability and performance for high-volume background tasks</li>\n<li style=\"\">Software testing skills to ensure we deliver the highest quality products that delight customers</li>\n</ul>\n<div class=\"h3\"><strong>What Will Make You Stand Out (Preferred Qualifications)</strong></div>\n<ul style=\"\">\n<li style=\"\">Knowledge of operating cloud-based relational databases (Postgres, etc)  at scale, including replication, monitoring and optimization</li>\n<li style=\"\">Experience in any field in security such as security product development, malware handling or processing, security operations workflows, etc.</li>\n</ul>\n<p> </p>\n<p><strong>#</strong><strong>LI-DB1</strong><strong><br></strong><strong>#LI-Remote</strong></p><div class='\"content-pay-transparency\"'><div class='\"pay-input\"'><div class='\"description\"'><p>Zscaler’s salary ranges are benchmarked and are determined by role and level. The range displayed on each job posting reflects the minimum and maximum target for new hire salaries for the position across all US locations and could be higher or lower based on a multitude of factors, including job-related skills, experience, and relevant education or training.</p>\n<p>The base salary range listed for this full-time position excludes commission/ bonus/ equity (if applicable) + benefits.</p></div><div class='\"title\"'>Base Pay Range</div><div class='\"pay-range\"'><span>$119,000</span><span class='\"divider\"'>—</span><span>$170,000 USD</span></div></div></div><div class='\"content-conclusion\"'><p>At Zscaler, we are committed to building a team that reflects the communities we serve and the customers we work with. We foster an inclusive environment that values all backgrounds and perspectives, emphasizing collaboration and belonging. Join us in our mission to make doing business seamless and secure.</p>\n<p>Our Benefits program is one of the most important ways we support our employees. Zscaler proudly offers comprehensive and inclusive benefits to meet the diverse needs of our employees and their families throughout their life stages, including:</p>\n<div class='\"has-nudge\"'>\n<ul style=\"\">\n<li style=\"\">Various health plans</li>\n<li style=\"\">Time off plans for vacation and sick time</li>\n<li style=\"\">Parental leave options</li>\n<li style=\"\">Retirement options</li>\n<li style=\"\">Education reimbursement</li>\n<li style=\"\">In-office perks, and more!</li>\n</ul>\n<p>Learn more about Zscaler’s Future of Work strategy, hybrid working model, and benefits <a href=\"%22https://www.zscaler.com/careers%22\" rel=\"nofollow\">here</a>.</p>\n</div>\n<p>By applying for this role, you adhere to applicable laws, regulations, and Zscaler policies, including those related to security and privacy standards and guidelines.</p>\n<p class='\"p1\"'>Zscaler is committed to providing equal employment opportunities to all individuals. We strive to create a workplace where employees are treated with respect and have the chance to succeed. All qualified applicants will be considered for employment without regard to race, color, religion, sex (including pregnancy or related medical conditions), age, national origin, sexual orientation, gender identity or expression, genetic information, disability status, protected veteran status, or any other characteristic protected by federal, state, or local laws. <em>See more information by clicking on the </em><a href=\"%22https://www.eeoc.gov/sites/default/files/2023-06/22-088_EEOC_KnowYourRights6.12ScreenRdr.pdf%22\" rel=\"nofollow\"><em>Know Your Rights: Workplace Discrimination is Illegal </em></a><em>link.</em></p>\n<p>Pay Transparency</p>\n<p>Zscaler complies with all applicable federal, state, and local pay transparency rules.</p>\n<p>Zscaler is committed to providing reasonable support (called accommodations or adjustments) in our recruiting processes for candidates who are differently abled, have long term conditions, mental health conditions or sincerely held religious beliefs, or who are neurodivergent or require pregnancy-related support.</p></div><img src=\"https://remotive.com/job/track/2069584/blank.gif?source=public_api\" alt=\"\"/>",
         "https://remotive.com/remote-jobs/software-dev/senior-software-engineer-2069584",
         "https://remotive.com/job/2069584/logo",
         "Remotive.com"
        ],
        [
         "3",
         "2069728",
         "Software Engineer C++ (Senior)",
         "Apexver",
         "2025-10-14T13:19:44",
         "full_time",
         "Software Development",
         "Worldwide",
         "$180k + bonus up to 100%",
         "<div class=\"h3\"><strong>Role Overview</strong></div>\n<p>As a <strong>Senior Software Engineer</strong>, you will take leadership in designing, building, and scaling high-performance trading systems. You will be driving architectural decisions, mentoring others, and ensuring the reliability, latency, and correctness of our production systems.<br>Your role will bridge between quant research, trading operations, and engineering excellence.</p>\n<div class=\"h3\"> </div>\n<div class=\"h3\"><strong>Key Responsibilities</strong></div>\n<ul style=\"\">\n<li style=\"\">\n<p>Lead design, development, and ownership of large, complex C++ systems: engines for order execution, market data ingestion, risk, connectivity, and downstream services.</p>\n</li>\n<li style=\"\">\n<p>Architect systems for low latency, high throughput, fault tolerance, and operational resilience.</p>\n</li>\n<li style=\"\">\n<p>Identify performance bottlenecks across software/hardware layers; lead initiatives to reduce latency, increase capacity, and improve stability.</p>\n</li>\n<li style=\"\">\n<p>Mentor and lead other engineers through code reviews, pairing, and driving best practices in code structure, testing, and performance.</p>\n</li>\n<li style=\"\">\n<p>Liaise closely with quant researchers and traders: influence product and strategy design, ensuring designs satisfy functional, non-functional, and latency constraints.</p>\n</li>\n<li style=\"\">\n<p>Drive infrastructure and tooling improvements: monitoring, observability, deployment pipelines, build systems, profiling frameworks, and latency measurement tools.</p>\n</li>\n<li style=\"\">\n<p>Stay up to date with new technologies and architectures (e.g. kernel bypass, RDMA, NUMA, CPU/GPU/FPGAs) and evaluate them for potential adoption.</p>\n</li>\n</ul>\n<div class=\"h3\"> </div>\n<div class=\"h3\"><strong>Qualifications</strong></div>\n<div class=\"h3\"><strong>Required</strong></div>\n<ul style=\"\">\n<li style=\"\">\n<p>5+ years (often 7+) of experience building production C++ systems, ideally in latency-sensitive or real-time environments.</p>\n</li>\n<li style=\"\">\n<p>Deep expertise in modern C++ (C++17/20/23), templates, metaprogramming, memory management, and allocation strategies.</p>\n</li>\n<li style=\"\">\n<p>Strong understanding of concurrency: multi-threading, lock-free programming, synchronization, hardware caches, and memory fences.</p>\n</li>\n<li style=\"\">\n<p>Proven track record in optimizing performance (latency, throughput); experience profiling and benchmarking at a low level.</p>\n</li>\n<li style=\"\">\n<p>Experience with network programming: TCP/UDP, protocol design, or low-level kernel/OS tuning.</p>\n</li>\n<li style=\"\">\n<p>Familiarity with distributed systems, messaging, resilience under load, and graceful degradation.</p>\n</li>\n<li style=\"\">\n<p>Excellent system-level thinking: balancing trade-offs (latency vs. safety vs. maintainability).</p>\n</li>\n<li style=\"\">\n<p>Strong leadership and communication skills; ability to push standards, mentor juniors, and influence design across teams.</p>\n</li>\n</ul>\n<div class=\"h3\"><strong>Nice to Have</strong></div>\n<ul style=\"\">\n<li style=\"\">\n<p>Prior HFT / proprietary trading / market making experience.</p>\n</li>\n<li style=\"\">\n<p>Deep knowledge of financial market microstructure: order books, matching engines, FIX protocols, exchange connectivity.</p>\n</li>\n<li style=\"\">\n<p>Experience or interest in hardware acceleration (FPGA), kernel bypass, DPDK, RDMA, or similar.</p>\n</li>\n<li style=\"\">\n<p>Exposure to other languages/tools relevant to quant or trading environments: Python, scripting, data processing, GPUs.</p>\n</li>\n<li style=\"\">\n<p>Advanced education (MS/PhD in CS, EE, Physics, Mathematics, etc.) is a plus but not required.</p>\n</li>\n</ul>\n<div class=\"h2\"> </div>\n<div class=\"h3\"><strong>What You’ll Gain</strong></div>\n<ul style=\"\">\n<li style=\"\">\n<p>A leadership role where your decisions shape both technical architecture and trading outcomes.</p>\n</li>\n<li style=\"\">\n<p>Opportunities to tackle cutting-edge engineering challenges where performance, scale, and correctness are non-negotiable.</p>\n</li>\n<li style=\"\">\n<p>Ability to mentor and grow a team; influence culture, standards, and technical excellence.</p>\n</li>\n<li style=\"\">\n<p>Excellent compensation, bonuses, and profit-sharing aligned with results and contribution.</p>\n</li>\n<li style=\"\">\n<p>A culture of high trust, where engineers have autonomy and the chance to experiment — and where learning from mistakes is valued.</p>\n</li>\n</ul>\n<div class=\"h2\"> </div>\n<div class=\"h3\"><strong>General: What Makes a Great Fit at Apexver</strong></div>\n<ul style=\"\">\n<li style=\"\">\n<p>You enjoy solving hard problems where edge vs. margin matters.</p>\n</li>\n<li style=\"\">\n<p>You’re curious and love going “under the hood” — whether it’s the OS, hardware, or network layer.</p>\n</li>\n<li style=\"\">\n<p>You take ownership end-to-end: from problem-solving and coding to testing, deploying, and monitoring.</p>\n</li>\n<li style=\"\">\n<p>You thrive in flat, collaborative, fast-moving teams.</p>\n</li>\n<li style=\"\">\n<p>You value clean code, correctness, performance, and pragmatism.</p>\n</li>\n</ul>\n<img src=\"https://remotive.com/job/track/2069728/blank.gif?source=public_api\" alt=\"\"/>",
         "https://remotive.com/remote-jobs/software-dev/software-engineer-c-senior-2069728",
         "https://remotive.com/job/2069728/logo",
         "Remotive.com"
        ],
        [
         "4",
         "2069583",
         "Senior Java Developer",
         "Penguin Formula",
         "2025-10-14T08:50:40",
         "contract",
         "Software Development",
         "Europe",
         "",
         "<br><br><div class=\"h3\">Company Description</div><p>WeCookiT is an international software house that delivers software development to its corporate customers by providing highly skilled, communicative IT professionals to build their customized products through outsourcing, nearshoring and turn-key projects’ solutions.</p><p>How do we differentiate ourselves? By investing in the professional growth and personal care of our software developers. We provide them with a premium service so that they can do the same for our customers.</p><p>Our talented team holds software engineers and sales experts, spread across offices in Europe and South America, and we represent a go-getting and driven company who aims to be an inspiring software house, knowing our future relies on IT.</p><p>WeCookiT stand for growth, support, dynamic, companionship and communication. Our head office is located in Portugal in the heart of Lisbon (Avenida da Liberdade) and we work mainly for the European market.</p><br><br><div class=\"h3\">Job Description</div><p>We are looking for a <strong>Senior Java Developer </strong>to join our internal team on a <strong>REMOTE</strong> work model from anywhere of the EU.</p><p> Design, develop, and maintain the Java backend (Spring Boot or similar frameworks).<br>\n Develop and optimize REST APIs to support the Angular frontend and external services.<br>\n Integrate with AI/ML services exposed via REST at a later stage (OpenAI, Ollama, vLLM, Hugging Face, etc.).<br>\n Ensure scalability, performance, and resilience in hybrid architectures (cloud + on-premises).<br>\n Implement secure handling of sensitive data, respecting privacy and compliance requirements (e.g., GDPR).<br>\n Optimize persistence and queries in relational (e.g., PostgreSQL, MySQL) or NoSQL databases.<br>\n Design monitoring, logging, and error-handling mechanisms for production systems.<br>\n Support CI/CD pipelines and contribute to infrastructure automation in AWS.</p><br><br><div class=\"h3\">Qualifications</div><p> 5+ years of professional experience as a Java Backend Engineer.<br>\n Strong proficiency in Java 11+ (preferably 17+) and frameworks like Spring Boot.<br>\n Solid understanding of REST API design and integration.<br>\n Experience with database systems (SQL and/or NoSQL).<br>\n Hands-on experience with cloud environments (AWS preferred).<br>\n Experience consuming and integrating external APIs (REST/JSON).<br>\n Familiarity with microservices architecture and distributed systems.<br>\n Good knowledge of security best practices (authentication, authorization,<br>\nencryption).<br>\n Ability to mentor and support junior developers.<br>\n Strong problem-solving and debugging skills.</p><p><strong>Nice to Have: </strong><br>\n Experience integrating with AI/ML services (e.g., OpenAI, Ollama).<br>\n Knowledge of Python (for collaboration with AI Engineers).<br>\n Familiarity with Angular (basic knowledge for collaboration with frontend).<br>\n Experience with Docker and Kubernetes.<br>\n Understanding of event-driven architectures (Kafka, RabbitMQ).<br>\n Experience with enterprise deployments (on-premises + offline mode).<br>\n Knowledge of advanced AWS services.</p><p><strong>Ideal Profile:</strong><br>\n Solution-oriented with strong problem-solving skills.<br>\n Able to work autonomously and take technical ownership.<br>\n Comfortable collaborating with cross-functional teams.<br>\n Proactive and capable of leading backend-related decisions.<br>\n Strong communicator, especially when working with AI and frontend teams.<br>\n Pragmatic mindset — balances best practices with delivering value quickly.<br>\n Curious about new technologies and eager to learn about AI integration.</p><br><br><div class=\"h3\">Additional Information</div><p>If you meet the above criteria and are ready for an exciting opportunity in a dynamic environment, submit your CV!</p><img src=\"https://remotive.com/job/track/2069583/blank.gif?source=public_api\" alt=\"\"/>",
         "https://remotive.com/remote-jobs/software-dev/senior-java-developer-2069583",
         "https://remotive.com/job/2069583/logo",
         "Remotive.com"
        ]
       ],
       "shape": {
        "columns": 12,
        "rows": 5
       }
      },
      "text/html": [
       "<div>\n",
       "<style scoped>\n",
       "    .dataframe tbody tr th:only-of-type {\n",
       "        vertical-align: middle;\n",
       "    }\n",
       "\n",
       "    .dataframe tbody tr th {\n",
       "        vertical-align: top;\n",
       "    }\n",
       "\n",
       "    .dataframe thead th {\n",
       "        text-align: right;\n",
       "    }\n",
       "</style>\n",
       "<table border=\"1\" class=\"dataframe\">\n",
       "  <thead>\n",
       "    <tr style=\"text-align: right;\">\n",
       "      <th></th>\n",
       "      <th>Job ID</th>\n",
       "      <th>Job Title</th>\n",
       "      <th>Company Name</th>\n",
       "      <th>Publication Date</th>\n",
       "      <th>Job Type</th>\n",
       "      <th>Category</th>\n",
       "      <th>Candidate Required Location</th>\n",
       "      <th>Salary Range</th>\n",
       "      <th>Job Description</th>\n",
       "      <th>Source URL</th>\n",
       "      <th>Company Logo</th>\n",
       "      <th>Job Board</th>\n",
       "    </tr>\n",
       "  </thead>\n",
       "  <tbody>\n",
       "    <tr>\n",
       "      <th>0</th>\n",
       "      <td>1591692</td>\n",
       "      <td>Senior ML Engineer</td>\n",
       "      <td>Proxify</td>\n",
       "      <td>2025-10-14T16:15:59</td>\n",
       "      <td>full_time</td>\n",
       "      <td>Software Development</td>\n",
       "      <td>CET +/- 3 HOURS</td>\n",
       "      <td>$45k - $80k</td>\n",
       "      <td>&lt;p dir=\"ltr\" style=\"line-height: 1.656; margin...</td>\n",
       "      <td>https://remotive.com/remote-jobs/software-dev/...</td>\n",
       "      <td>https://remotive.com/job/1591692/logo</td>\n",
       "      <td>Remotive.com</td>\n",
       "    </tr>\n",
       "    <tr>\n",
       "      <th>1</th>\n",
       "      <td>2069585</td>\n",
       "      <td>AI Automation Engineer</td>\n",
       "      <td>Supertech Group</td>\n",
       "      <td>2025-10-14T14:51:38</td>\n",
       "      <td>full_time</td>\n",
       "      <td>Software Development</td>\n",
       "      <td>India</td>\n",
       "      <td></td>\n",
       "      <td>&lt;p&gt;Do you want to love what you do at work? Do...</td>\n",
       "      <td>https://remotive.com/remote-jobs/software-dev/...</td>\n",
       "      <td>https://remotive.com/job/2069585/logo</td>\n",
       "      <td>Remotive.com</td>\n",
       "    </tr>\n",
       "    <tr>\n",
       "      <th>2</th>\n",
       "      <td>2069584</td>\n",
       "      <td>Senior Software Engineer</td>\n",
       "      <td>Zscaler</td>\n",
       "      <td>2025-10-14T14:51:36</td>\n",
       "      <td>full_time</td>\n",
       "      <td>Software Development</td>\n",
       "      <td>USA</td>\n",
       "      <td>$119,000 - $170,000 usd</td>\n",
       "      <td>&lt;div class='\"content-intro\"'&gt;&lt;p&gt;About &lt;strong&gt;...</td>\n",
       "      <td>https://remotive.com/remote-jobs/software-dev/...</td>\n",
       "      <td>https://remotive.com/job/2069584/logo</td>\n",
       "      <td>Remotive.com</td>\n",
       "    </tr>\n",
       "    <tr>\n",
       "      <th>3</th>\n",
       "      <td>2069728</td>\n",
       "      <td>Software Engineer C++ (Senior)</td>\n",
       "      <td>Apexver</td>\n",
       "      <td>2025-10-14T13:19:44</td>\n",
       "      <td>full_time</td>\n",
       "      <td>Software Development</td>\n",
       "      <td>Worldwide</td>\n",
       "      <td>$180k + bonus up to 100%</td>\n",
       "      <td>&lt;div class=\"h3\"&gt;&lt;strong&gt;Role Overview&lt;/strong&gt;...</td>\n",
       "      <td>https://remotive.com/remote-jobs/software-dev/...</td>\n",
       "      <td>https://remotive.com/job/2069728/logo</td>\n",
       "      <td>Remotive.com</td>\n",
       "    </tr>\n",
       "    <tr>\n",
       "      <th>4</th>\n",
       "      <td>2069583</td>\n",
       "      <td>Senior Java Developer</td>\n",
       "      <td>Penguin Formula</td>\n",
       "      <td>2025-10-14T08:50:40</td>\n",
       "      <td>contract</td>\n",
       "      <td>Software Development</td>\n",
       "      <td>Europe</td>\n",
       "      <td></td>\n",
       "      <td>&lt;br&gt;&lt;br&gt;&lt;div class=\"h3\"&gt;Company Description&lt;/d...</td>\n",
       "      <td>https://remotive.com/remote-jobs/software-dev/...</td>\n",
       "      <td>https://remotive.com/job/2069583/logo</td>\n",
       "      <td>Remotive.com</td>\n",
       "    </tr>\n",
       "  </tbody>\n",
       "</table>\n",
       "</div>"
      ],
      "text/plain": [
       "    Job ID                       Job Title     Company Name  \\\n",
       "0  1591692              Senior ML Engineer          Proxify   \n",
       "1  2069585          AI Automation Engineer  Supertech Group   \n",
       "2  2069584        Senior Software Engineer          Zscaler   \n",
       "3  2069728  Software Engineer C++ (Senior)          Apexver   \n",
       "4  2069583           Senior Java Developer  Penguin Formula   \n",
       "\n",
       "      Publication Date   Job Type              Category  \\\n",
       "0  2025-10-14T16:15:59  full_time  Software Development   \n",
       "1  2025-10-14T14:51:38  full_time  Software Development   \n",
       "2  2025-10-14T14:51:36  full_time  Software Development   \n",
       "3  2025-10-14T13:19:44  full_time  Software Development   \n",
       "4  2025-10-14T08:50:40   contract  Software Development   \n",
       "\n",
       "  Candidate Required Location              Salary Range  \\\n",
       "0             CET +/- 3 HOURS               $45k - $80k   \n",
       "1                       India                             \n",
       "2                         USA   $119,000 - $170,000 usd   \n",
       "3                   Worldwide  $180k + bonus up to 100%   \n",
       "4                      Europe                             \n",
       "\n",
       "                                     Job Description  \\\n",
       "0  <p dir=\"ltr\" style=\"line-height: 1.656; margin...   \n",
       "1  <p>Do you want to love what you do at work? Do...   \n",
       "2  <div class='\"content-intro\"'><p>About <strong>...   \n",
       "3  <div class=\"h3\"><strong>Role Overview</strong>...   \n",
       "4  <br><br><div class=\"h3\">Company Description</d...   \n",
       "\n",
       "                                          Source URL  \\\n",
       "0  https://remotive.com/remote-jobs/software-dev/...   \n",
       "1  https://remotive.com/remote-jobs/software-dev/...   \n",
       "2  https://remotive.com/remote-jobs/software-dev/...   \n",
       "3  https://remotive.com/remote-jobs/software-dev/...   \n",
       "4  https://remotive.com/remote-jobs/software-dev/...   \n",
       "\n",
       "                            Company Logo     Job Board  \n",
       "0  https://remotive.com/job/1591692/logo  Remotive.com  \n",
       "1  https://remotive.com/job/2069585/logo  Remotive.com  \n",
       "2  https://remotive.com/job/2069584/logo  Remotive.com  \n",
       "3  https://remotive.com/job/2069728/logo  Remotive.com  \n",
       "4  https://remotive.com/job/2069583/logo  Remotive.com  "
      ]
     },
     "metadata": {},
     "output_type": "display_data"
    }
   ],
   "source": [
    "if __name__ == \"__main__\":\n",
    "\n",
    " # Example usage: Fetch 50 software development jobs\n",
    " scraped_data = scrape_remotive_api(category=\"software-dev\", limit=50)\n",
    " if not scraped_data.empty:\n",
    "    output_filename = \"remotive_jobs.csv\"\n",
    "    scraped_data.to_csv(output_filename, index=False)\n",
    "    print(f\"Scraped data saved to {output_filename}\")\n",
    "    display(Markdown(f\"### Sample of Scraped Data from Remotive API\"))\n",
    "    display(scraped_data.head())\n",
    " else:\n",
    "    print(\"No job listings were fetched from Remotive API. Please check the logs above for errors.\")\n",
    "    display(Markdown( \"### No Data Fetched.\"))\n",
    "    display(Markdown(\"API call did not return any job listings. Review the console output for error messages or check the API documentation for valid parameters.\"))"
   ]
  },
  {
   "cell_type": "markdown",
   "id": "e5e3d386",
   "metadata": {},
   "source": [
    "## 4. API Usage Best Practices and Considerations"
   ]
  },
  {
   "cell_type": "markdown",
   "id": "d57b2af2",
   "metadata": {},
   "source": [
    "Using an API for data collection offers several advantages over traditional web scraping:"
   ]
  },
  {
   "cell_type": "markdown",
   "id": "cba09a24",
   "metadata": {},
   "source": [
    "### Reliability\n",
    "APIs provide a stable and structured way to access data. They are less prone to breaking due to website design changes, which is a common challenge with HTML parsing"
   ]
  },
  {
   "cell_type": "markdown",
   "id": "0b28c7c9",
   "metadata": {},
   "source": [
    "### Efficiency\n",
    "APIs typically return data in a machine-readable format (like JSON), which is much faster and easier to parse than HTML. This reduces development time and computational resources."
   ]
  },
  {
   "cell_type": "markdown",
   "id": "ba9eb8cf",
   "metadata": {},
   "source": [
    "### Politeness and Rate Limits\n",
    "API providers usually have clear guidelines on usage and rate limits. Adhering to these limits (e.g., by introducing `time.sleep()` if making multiple sequential calls) ensures continued access and good standing with the service provider. Remotive's API documentation advises a maximum of 4 requests per day for general data, and excessive requests (more than 2x per minute) will be blocked."
   ]
  },
  {
   "cell_type": "markdown",
   "id": "2eaa0a25",
   "metadata": {},
   "source": [
    "### Data Quality\n",
    "Data obtained through an API is often cleaner and more consistent, as it's directly provided by the source in a structured format, reducing the need for extensive data cleaning and transformation."
   ]
  },
  {
   "cell_type": "markdown",
   "id": "775df39d",
   "metadata": {},
   "source": [
    "### Terms of Service\n",
    "Always review the API's terms of service. For Remotive, it's crucial to link back to the original job URL and mention Remotive as the source if you share their job listings. Also, note that jobs displayed via the public API are delayed by 24 hours."
   ]
  },
  {
   "cell_type": "markdown",
   "id": "92240528",
   "metadata": {},
   "source": [
    "### Integration into BI Projects\n",
    "For a full BI project, the data fetched via this API would be a crucial input. It would then be loaded into a data warehouse, transformed, enriched, and used to build interactive dashboards (e.g., in Power BI) for trend analysis, market insights, and data-driven decision-making regarding remote work trends."
   ]
  }
 ],
 "metadata": {
  "kernelspec": {
   "display_name": ".venv (3.13.8)",
   "language": "python",
   "name": "python3"
  },
  "language_info": {
   "codemirror_mode": {
    "name": "ipython",
    "version": 3
   },
   "file_extension": ".py",
   "mimetype": "text/x-python",
   "name": "python",
   "nbconvert_exporter": "python",
   "pygments_lexer": "ipython3",
   "version": "3.13.9"
  }
 },
 "nbformat": 4,
 "nbformat_minor": 5
}
